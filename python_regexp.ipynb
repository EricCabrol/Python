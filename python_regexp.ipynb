{
 "cells": [
  {
   "cell_type": "markdown",
   "metadata": {},
   "source": [
    "# Regular expressions in Python"
   ]
  },
  {
   "cell_type": "markdown",
   "metadata": {
    "colab_type": "text",
    "id": "eiUHlpCcF-gg"
   },
   "source": [
    "Import module"
   ]
  },
  {
   "cell_type": "code",
   "execution_count": 2,
   "metadata": {
    "colab": {},
    "colab_type": "code",
    "id": "oOel-FveGMqi"
   },
   "outputs": [],
   "source": [
    "import re"
   ]
  },
  {
   "cell_type": "markdown",
   "metadata": {
    "colab_type": "text",
    "id": "-WzeAyALGPFk"
   },
   "source": [
    "String declaration\n",
    "\n"
   ]
  },
  {
   "cell_type": "code",
   "execution_count": 3,
   "metadata": {
    "colab": {},
    "colab_type": "code",
    "id": "TKI26qZq_xbL"
   },
   "outputs": [],
   "source": [
    "dob = \"Richard Feynman was born on May 18, 1918\""
   ]
  },
  {
   "cell_type": "markdown",
   "metadata": {
    "colab_type": "text",
    "id": "yrno8Q3jHYzw"
   },
   "source": [
    "`match` looks for sequences at the beginning of the string "
   ]
  },
  {
   "cell_type": "code",
   "execution_count": 7,
   "metadata": {
    "colab_type": "text",
    "id": "f6jBXhrzKA0t"
   },
   "outputs": [
    {
     "name": "stdout",
     "output_type": "stream",
     "text": [
      "<re.Match object; span=(0, 7), match='Richard'>\n"
     ]
    }
   ],
   "source": [
    "re.match(r'[A-Z]\\w*',dob) # here looking for a capital letter, followed by zero or more alphanumeric character"
   ]
  },
  {
   "cell_type": "markdown",
   "metadata": {},
   "source": [
    "The object returned can be used in a test :"
   ]
  },
  {
   "cell_type": "code",
   "execution_count": 17,
   "metadata": {},
   "outputs": [
    {
     "name": "stdout",
     "output_type": "stream",
     "text": [
      "Richard\n"
     ]
    }
   ],
   "source": [
    "output = re.match(r'[A-Z]\\w*',dob)\n",
    "if output:\n",
    "    print(output.group(0)) # prints the first result of the match "
   ]
  },
  {
   "cell_type": "markdown",
   "metadata": {},
   "source": [
    "`search` looks for sequences anywhere in the string"
   ]
  },
  {
   "cell_type": "code",
   "execution_count": 18,
   "metadata": {
    "colab": {
     "base_uri": "https://localhost:8080/",
     "height": 35
    },
    "colab_type": "code",
    "id": "sItfCNPUKAEN",
    "outputId": "77182afc-a06c-43e4-cdd5-cb24f831c555"
   },
   "outputs": [
    {
     "data": {
      "text/plain": [
       "<re.Match object; span=(32, 34), match='18'>"
      ]
     },
     "execution_count": 18,
     "metadata": {},
     "output_type": "execute_result"
    }
   ],
   "source": [
    "re.search(r'\\d+',dob) # looking for one or more numbers (digits)"
   ]
  },
  {
   "cell_type": "markdown",
   "metadata": {
    "colab_type": "text",
    "id": "msjmDf07NTie"
   },
   "source": [
    "Note that only the first occurence is returned. If you want to find them all : "
   ]
  },
  {
   "cell_type": "code",
   "execution_count": 19,
   "metadata": {
    "colab": {},
    "colab_type": "code",
    "id": "JYRngxbuHdHP"
   },
   "outputs": [
    {
     "data": {
      "text/plain": [
       "['18', '1918']"
      ]
     },
     "execution_count": 19,
     "metadata": {},
     "output_type": "execute_result"
    }
   ],
   "source": [
    "re.findall(r'\\d+',dob)"
   ]
  }
 ],
 "metadata": {
  "colab": {
   "name": "regexp.ipynb",
   "provenance": []
  },
  "kernelspec": {
   "display_name": "Python 3",
   "language": "python",
   "name": "python3"
  },
  "language_info": {
   "codemirror_mode": {
    "name": "ipython",
    "version": 3
   },
   "file_extension": ".py",
   "mimetype": "text/x-python",
   "name": "python",
   "nbconvert_exporter": "python",
   "pygments_lexer": "ipython3",
   "version": "3.7.7"
  }
 },
 "nbformat": 4,
 "nbformat_minor": 1
}
