{
 "cells": [
  {
   "cell_type": "markdown",
   "metadata": {},
   "source": [
    "# STRINGS"
   ]
  },
  {
   "cell_type": "code",
   "execution_count": 17,
   "metadata": {},
   "outputs": [
    {
     "data": {
      "text/plain": [
       "['Bought 2024', '03', '24 in Göteborg']"
      ]
     },
     "execution_count": 17,
     "metadata": {},
     "output_type": "execute_result"
    },
    {
     "data": {
      "text/plain": [
       "['Bought 2024-03', '24 in Göteborg']"
      ]
     },
     "execution_count": 17,
     "metadata": {},
     "output_type": "execute_result"
    },
    {
     "data": {
      "text/plain": [
       "('Bought 2024-03-24 ', 'in', ' Göteborg')"
      ]
     },
     "execution_count": 17,
     "metadata": {},
     "output_type": "execute_result"
    },
    {
     "data": {
      "text/plain": [
       "'Bought 2024-03-24 in Göteborg for 3.05 €'"
      ]
     },
     "execution_count": 17,
     "metadata": {},
     "output_type": "execute_result"
    },
    {
     "data": {
      "text/plain": [
       "2"
      ]
     },
     "execution_count": 17,
     "metadata": {},
     "output_type": "execute_result"
    },
    {
     "data": {
      "text/plain": [
       "9"
      ]
     },
     "execution_count": 17,
     "metadata": {},
     "output_type": "execute_result"
    },
    {
     "data": {
      "text/plain": [
       "9"
      ]
     },
     "execution_count": 17,
     "metadata": {},
     "output_type": "execute_result"
    },
    {
     "data": {
      "text/plain": [
       "-1"
      ]
     },
     "execution_count": 17,
     "metadata": {},
     "output_type": "execute_result"
    },
    {
     "data": {
      "text/plain": [
       "15"
      ]
     },
     "execution_count": 17,
     "metadata": {},
     "output_type": "execute_result"
    },
    {
     "data": {
      "text/plain": [
       "'Bought 2024-03-24 in Dublin'"
      ]
     },
     "execution_count": 17,
     "metadata": {},
     "output_type": "execute_result"
    },
    {
     "data": {
      "text/plain": [
       "'Bought 2024-03-24 in göteborg'"
      ]
     },
     "execution_count": 17,
     "metadata": {},
     "output_type": "execute_result"
    },
    {
     "data": {
      "text/plain": [
       "'bought 2024-03-24 in göteborg'"
      ]
     },
     "execution_count": 17,
     "metadata": {},
     "output_type": "execute_result"
    },
    {
     "data": {
      "text/plain": [
       "'bought 2024-03-24 in göteborg'"
      ]
     },
     "execution_count": 17,
     "metadata": {},
     "output_type": "execute_result"
    },
    {
     "data": {
      "text/plain": [
       "b'Bought 2024-03-24 in G\\xc3\\xb6teborg'"
      ]
     },
     "execution_count": 17,
     "metadata": {},
     "output_type": "execute_result"
    }
   ],
   "source": [
    "# Next two lines only to display every output of a cell, not only the last output\n",
    "from IPython.core.interactiveshell import InteractiveShell\n",
    "InteractiveShell.ast_node_interactivity = \"all\"\n",
    "\n",
    "# Example strings\n",
    "txt = 'Bought 2024-03-24 in Göteborg'\n",
    "price = 'for 3.05 €' \n",
    "\n",
    "# Split or join methods\n",
    "txt.rsplit('-') # split starting from right\n",
    "txt.rsplit('-', 1) # split only once\n",
    "txt.partition('in') # partition and returns a 3-tuple\n",
    "' '.join((txt,price)) # join takes only one argument (a tuple), hence the double parentheses\n",
    "\n",
    "# Count or find in strings\n",
    "txt.count('24')\n",
    "txt.find('24') # returns position (or -1 if not found)\n",
    "txt.index('24') # returns position (or an exception if not found)\n",
    "txt.rfind('25') # same as find, but starting from the right\n",
    "txt.rindex('24') # same as index, but starting from the right\n",
    "\n",
    "\n",
    "# Replace or remove\n",
    "txt.replace('Göteborg','Dublin')\n",
    "\n",
    "# Case related methods\n",
    "txt.capitalize()\n",
    "txt.casefold() # set to lower case, can also convert some special characters, unlike lower()\n",
    "txt.lower() \n",
    "\n",
    "\n",
    "# Misc\n",
    "txt.encode() # encode to utf-8\n",
    "\n",
    "\n"
   ]
  },
  {
   "cell_type": "code",
   "execution_count": 18,
   "metadata": {},
   "outputs": [
    {
     "name": "stdout",
     "output_type": "stream",
     "text": [
      "True\n",
      "True\n",
      "False\n",
      "False\n",
      "False\n",
      "False\n",
      "False\n",
      "False\n",
      "False\n",
      "False\n",
      "False\n"
     ]
    }
   ],
   "source": [
    "# Test methods (return a boolean)\n",
    "print (txt.startswith('Boug'))\n",
    "print (txt.endswith('borg'))\n",
    "print (txt.isalnum())\n",
    "print (txt.isalpha())\n",
    "print (txt.isascii())\n",
    "print (txt.isdecimal())\n",
    "print (txt.isdigit())\n",
    "print (txt.isidentifier()) # must contain only a-z 0-9 and _\n",
    "print (txt.islower()) \n",
    "print (txt.isupper()) \n",
    "print (txt.isnumeric())"
   ]
  }
 ],
 "metadata": {
  "kernelspec": {
   "display_name": "Python 3",
   "language": "python",
   "name": "python3"
  },
  "language_info": {
   "codemirror_mode": {
    "name": "ipython",
    "version": 3
   },
   "file_extension": ".py",
   "mimetype": "text/x-python",
   "name": "python",
   "nbconvert_exporter": "python",
   "pygments_lexer": "ipython3",
   "version": "3.10.12"
  }
 },
 "nbformat": 4,
 "nbformat_minor": 2
}
